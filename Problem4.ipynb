{
  "nbformat": 4,
  "nbformat_minor": 0,
  "metadata": {
    "colab": {
      "provenance": []
    },
    "kernelspec": {
      "name": "python3",
      "display_name": "Python 3"
    },
    "language_info": {
      "name": "python"
    }
  },
  "cells": [
    {
      "cell_type": "markdown",
      "source": [
        "## 26. Remove Duplicates from Sorted Array\n",
        "\n",
        "Given an integer array nums sorted in non-decreasing order, remove the duplicates in-place such that each unique element appears only once. The relative order of the elements should be kept the same. Then return the number of unique elements in nums.\n",
        "\n",
        "Consider the number of unique elements of nums to be k, to get accepted, you need to do the following things:\n",
        "\n",
        "Change the array nums such that the first k elements of nums contain the unique elements in the order they were present in nums initially. The remaining elements of nums are not important as well as the size of nums.\n",
        "Return k.\n",
        "\n",
        "Custom Judge:\n",
        "\n",
        "The judge will test your solution with the following code:\n",
        "\n",
        "int[] nums = [...]; // Input array\n",
        "\n",
        "int[] expectedNums = [...]; // The expected answer with correct length\n",
        "\n",
        "int k = removeDuplicates(nums); // Calls your implementation\n",
        "\n",
        "assert k == expectedNums.length;\n",
        "\n",
        "for (int i = 0; i < k; i++) {\n",
        "    assert nums[i] == expectedNums[i];\n",
        "}\n",
        "\n",
        "If all assertions pass, then your solution will be accepted.\n",
        "\n",
        "\n",
        "\n",
        "Example 1:\n",
        "\n",
        "Input: nums = [1,1,2]\n",
        "\n",
        "Output: 2, nums = [1,2,_]\n",
        "\n",
        "Explanation: Your function should return k = 2, with the first two elements of nums being 1 and 2 respectively.\n",
        "\n",
        "It does not matter what you leave beyond the returned k (hence they are underscores).\n",
        "\n",
        "Example 2:\n",
        "\n",
        "Input: nums = [0,0,1,1,1,2,2,3,3,4]\n",
        "\n",
        "Output: 5, nums = [0,1,2,3,4,_,_,_,_,_]\n",
        "\n",
        "Explanation: Your function should return k = 5, with the first five elements of nums being 0, 1, 2, 3, and 4 respectively.\n",
        "\n",
        "It does not matter what you leave beyond the returned k (hence they are underscores)."
      ],
      "metadata": {
        "id": "2SF6E3lTdhsm"
      }
    },
    {
      "cell_type": "code",
      "execution_count": null,
      "metadata": {
        "id": "J-MTzBoCdRA8"
      },
      "outputs": [],
      "source": [
        "class Solution(object):\n",
        "    def removeDuplicates(self, nums):\n",
        "        \"\"\"\n",
        "        :type nums: List[int]\n",
        "        :rtype: int\n",
        "        \"\"\"\n",
        "        if not nums:  # Kiểm tra xem danh sách có rỗng không\n",
        "            return 0  # Nếu rỗng, trả về 0\n",
        "\n",
        "        k = 1  # Bắt đầu với một phần tử duy nhất\n",
        "\n",
        "        # Duyệt qua từ phần tử thứ hai\n",
        "        for i in range(1, len(nums)):\n",
        "            # Nếu phần tử hiện tại khác với phần tử duy nhất cuối cùng\n",
        "            if nums[i] != nums[k - 1]:\n",
        "                nums[k] = nums[i]  # Di chuyển phần tử duy nhất vào vị trí k\n",
        "                k += 1  # Tăng số lượng phần tử duy nhất lên 1\n",
        "\n",
        "        return k  # Trả về số lượng phần tử duy nhất"
      ]
    },
    {
      "cell_type": "markdown",
      "source": [
        "- Kiểm tra nếu mảng nums rỗng, thì trả về 0. Khởi tạo k = 1, biểu thị rằng chúng ta đã tìm thấy một phần tử duy nhất.\n",
        "- Sử dụng vòng lặp bắt đầu từ phần tử thứ hai (i = 1).\n",
        "Nếu phần tử hiện tại (nums[i]) khác với phần tử duy nhất cuối cùng (nums[k - 1]), có nghĩa là chúng ta đã tìm thấy một phần tử mới.\n",
        "Di chuyển phần tử này đến vị trí k (nums[k] = nums[i]).\n",
        "Tăng biến k lên 1 để tăng số lượng phần tử duy nhất.\n",
        "- Cuối cùng, trả về giá trị của k, tức là số lượng phần tử duy nhất trong mảng nums.\n",
        "\n",
        "# Ví dụ:\n",
        "Với đầu vào nums = [1, 1, 2], hàm sẽ trả về 2, và mảng sẽ trở thành [1, 2, _], trong đó _ không quan trọng.\n",
        "\n",
        "Với đầu vào nums = [0, 0, 1, 1, 1, 2, 2, 3, 3, 4], hàm sẽ trả về 5, và mảng sẽ trở thành [0, 1, 2, 3, 4, _, _, _, _, _]."
      ],
      "metadata": {
        "id": "Q51ZWsmYeJaM"
      }
    }
  ]
}