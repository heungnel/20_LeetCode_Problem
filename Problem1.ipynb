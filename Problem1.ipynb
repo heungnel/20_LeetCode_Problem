{
  "nbformat": 4,
  "nbformat_minor": 0,
  "metadata": {
    "colab": {
      "provenance": []
    },
    "kernelspec": {
      "name": "python3",
      "display_name": "Python 3"
    },
    "language_info": {
      "name": "python"
    }
  },
  "cells": [
    {
      "cell_type": "markdown",
      "source": [
        "## 1. Two Sum\n",
        "\n",
        "Given an array of integers nums and an integer target, return indices of the two numbers such that they add up to target.\n",
        "\n",
        "You may assume that each input would have exactly one solution, and you may not use the same element twice.\n",
        "\n",
        "You can return the answer in any order.\n",
        "\n",
        "Example 1:\n",
        "\n",
        "Input: nums = [2,7,11,15], target = 9\n",
        "\n",
        "Output: [0,1]\n",
        "\n",
        "Explanation: Because nums[0] + nums[1] == 9, we return [0, 1].\n",
        "\n",
        "\n",
        "Example 2:\n",
        "\n",
        "Input: nums = [3,2,4], target = 6\n",
        "\n",
        "Output: [1,2]\n",
        "\n",
        "\n",
        "Example 3:\n",
        "\n",
        "Input: nums = [3,3], target = 6\n",
        "\n",
        "Output: [0,1]\n",
        "\n"
      ],
      "metadata": {
        "id": "NBXE5mn8Uzw_"
      }
    },
    {
      "cell_type": "markdown",
      "source": [
        "## Solution"
      ],
      "metadata": {
        "id": "b3rJrBHtVnir"
      }
    },
    {
      "cell_type": "code",
      "source": [
        "class Solution(object):\n",
        "    def twoSum(self, nums, target):\n",
        "        \"\"\"\n",
        "        :type nums: List[int]\n",
        "        :type target: int\n",
        "        :rtype: List[int]\n",
        "        \"\"\"\n",
        "        # Cho i tượng trưng cho số chỉ số, chạy từ index 0->độ dài của dãy số\n",
        "        for i in range(len(nums)):\n",
        "            # Cho j cũng tượng trưng cho chỉ số, chạy từ index j = i+1->độ dài của dãy số\n",
        "            for j in range(i+1, len(nums)):\n",
        "                if nums[i] + nums[j] == target:\n",
        "                    return [i,j]\n",
        "        return []"
      ],
      "metadata": {
        "id": "DygqbPaKVD6p"
      },
      "execution_count": null,
      "outputs": []
    },
    {
      "cell_type": "markdown",
      "source": [
        "- Hàm twoSum nhận vào hai tham số: nums, là một danh sách các số nguyên, và target, là một số nguyên mà chúng ta muốn tìm hai số trong danh sách có tổng bằng target.\n",
        "\n",
        "- Vòng lặp đầu tiên: sẽ lặp qua tất cả các chỉ số trong danh sách nums. Biến i sẽ đại diện cho số đầu tiên mà chúng ta đang xem xét.\n",
        "\n",
        "- Vòng lặp thứ hai: nó lặp qua tất cả các chỉ số j bắt đầu từ i + 1 cho đến hết danh sách. Đảm bảo việc không sử dụng cùng một phần tử hai lần (bởi vì j luôn lớn hơn i).\n",
        "\n",
        "- Kiểm tra tổng: khi điều kiện \"nums[i] + nums[j] == target\" kiểm tra xem tổng của hai số tại i và j có tổng bằng target hay không.\n",
        "\n",
        "- Nếu điều kiện trên đúng, hàm sẽ trả về danh sách chứa hai chỉ số [i, j]. Đây là chỉ số của hai số mà tổng của chúng bằng target.\n",
        "\n",
        "- Nếu không tìm thấy cặp số nào thỏa mãn điều kiện, hàm sẽ trả về một danh sách rỗng [].\n",
        "\n",
        "# Ví dụ\n",
        "Với đầu vào nums = [2, 7, 11, 15] và target = 9, vòng lặp sẽ tìm ra rằng nums[0] + nums[1] (tức là 2 + 7) bằng 9, vì vậy nó sẽ trả về [0, 1].\n",
        "\n",
        "Với đầu vào nums = [3, 2, 4] và target = 6, vòng lặp sẽ tìm thấy nums[1] + nums[2] (tức là 2 + 4) bằng 6, và trả về [1, 2]."
      ],
      "metadata": {
        "id": "kY4qjjNwVkUt"
      }
    }
  ]
}