{
  "nbformat": 4,
  "nbformat_minor": 0,
  "metadata": {
    "colab": {
      "provenance": []
    },
    "kernelspec": {
      "name": "python3",
      "display_name": "Python 3"
    },
    "language_info": {
      "name": "python"
    }
  },
  "cells": [
    {
      "cell_type": "markdown",
      "source": [
        "## 20. Valid Parentheses\n",
        "\n",
        "Given a string s containing just the characters '(', ')', '{', '}', '[' and ']', determine if the input string is valid.\n",
        "\n",
        "An input string is valid if:\n",
        "\n",
        "Open brackets must be closed by the same type of brackets.\n",
        "Open brackets must be closed in the correct order.\n",
        "Every close bracket has a corresponding open bracket of the same type.\n",
        "\n",
        "\n",
        "Example 1:\n",
        "\n",
        "Input: s = \"()\"\n",
        "\n",
        "Output: true\n",
        "\n",
        "Example 2:\n",
        "\n",
        "Input: s = \"()[]{}\"\n",
        "\n",
        "Output: true\n",
        "\n",
        "Example 3:\n",
        "\n",
        "Input: s = \"(]\"\n",
        "\n",
        "Output: false\n",
        "\n",
        "Example 4:\n",
        "\n",
        "Input: s = \"([])\"\n",
        "\n",
        "Output: true"
      ],
      "metadata": {
        "id": "VwZHVbk6b2Zh"
      }
    },
    {
      "cell_type": "code",
      "execution_count": null,
      "metadata": {
        "id": "iZ80B850buPd"
      },
      "outputs": [],
      "source": [
        "class Solution(object):\n",
        "    def isValid(self, s):\n",
        "        \"\"\"\n",
        "        :type s: str\n",
        "        :rtype: bool\n",
        "        \"\"\"\n",
        "        stack = []  # Khởi tạo stack để lưu dấu ngoặc mở\n",
        "        bracket_pairs = {')': '(', '}': '{', ']': '['}\n",
        "\n",
        "        for char in s:  # Duyệt qua từng ký tự trong chuỗi\n",
        "            if char in bracket_pairs.values():   # Nếu là dấu ngoặc mở\n",
        "                stack.append(char)   # Thêm vào stack\n",
        "            elif char in bracket_pairs:   # Nếu là dấu ngoặc đóng\n",
        "                if not stack or stack.pop() != bracket_pairs[char]:   # Kiểm tra xem stack có rỗng hay không\n",
        "                    return False\n",
        "            else:\n",
        "                return False  # Invalid character\n",
        "\n",
        "        return len(stack) == 0"
      ]
    },
    {
      "cell_type": "markdown",
      "source": [
        "- Đầu tiên tạo stack để lưu dấu ngoặc mở và một dictionary dấu ngoặc đóng với mở.\n",
        "- Nếu gặp dấu ngoặc mở, thêm vào stack.\n",
        "Nếu gặp dấu ngoặc đóng, kiểm tra xem có dấu ngoặc mở tương ứng không. Nếu không có hoặc không khớp, trả về False.\n",
        "- Nếu ký tự không phải là dấu ngoặc, cũng trả về False.\n",
        "- Cuối cùng, nếu stack rỗng (tất cả dấu ngoặc đã được đóng), trả về True. Nếu còn phần tử trong stack, trả về False."
      ],
      "metadata": {
        "id": "u_fymRblcvYY"
      }
    }
  ]
}