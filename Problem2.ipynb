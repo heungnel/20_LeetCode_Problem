{
  "nbformat": 4,
  "nbformat_minor": 0,
  "metadata": {
    "colab": {
      "provenance": []
    },
    "kernelspec": {
      "name": "python3",
      "display_name": "Python 3"
    },
    "language_info": {
      "name": "python"
    }
  },
  "cells": [
    {
      "cell_type": "markdown",
      "source": [
        "## 9. Palindrome Number\n",
        "\n",
        "Given an integer x, return true if x is a\n",
        "palindrome\n",
        ", and false otherwise.\n",
        "\n",
        "\n",
        "\n",
        "Example 1:\n",
        "\n",
        "Input: x = 121\n",
        "\n",
        "Output: true\n",
        "\n",
        "Explanation: 121 reads as 121 from left to right and from right to left.\n",
        "\n",
        "Example 2:\n",
        "\n",
        "Input: x = -121\n",
        "\n",
        "Output: false\n",
        "\n",
        "Explanation: From left to right, it reads -121. From right to left, it becomes 121-. Therefore it is not a palindrome.\n",
        "\n",
        "Example 3:\n",
        "\n",
        "Input: x = 10\n",
        "\n",
        "Output: false\n",
        "\n",
        "Explanation: Reads 01 from right to left. Therefore it is not a palindrome."
      ],
      "metadata": {
        "id": "Q65XRQ25YATW"
      }
    },
    {
      "cell_type": "code",
      "source": [
        "class Solution(object):\n",
        "    def isPalindrome(self, x):\n",
        "        \"\"\"\n",
        "        :type x: int\n",
        "        :rtype: bool\n",
        "        \"\"\"\n",
        "        # Số âm không phải là palindromes\n",
        "        if x < 0:\n",
        "            return False\n",
        "\n",
        "        # Chuyển từ số sang string để dễ kiểm tra hơn\n",
        "        x_str = str(x)\n",
        "\n",
        "        # So sánh string đó với string đảo ngược\n",
        "        if x_str == x_str[::-1]:\n",
        "            return True\n",
        "        else:\n",
        "            return False"
      ],
      "metadata": {
        "id": "HDazswYZY_HV"
      },
      "execution_count": null,
      "outputs": []
    },
    {
      "cell_type": "markdown",
      "source": [
        "- Hàm isPalindrome nhận vào một tham số x, là một số nguyên.\n",
        "\n",
        "- Đầu tiên dòng if x < 0 để kiểm tra xem x có phải là số âm hay không. Nếu x là số âm, hàm sẽ trả về False ngay lập tức vì các số âm không thể là số đối xứng (palindrome).\n",
        "\n",
        "- Dòng x_str = str(x) chuyển đổi số nguyên x thành chuỗi. Giúp dễ dàng so sánh số với chính nó khi được đảo ngược.\n",
        "\n",
        "- Dòng if x_str == x_str[::-1]: kiểm tra xem chuỗi x_str có bằng với chuỗi đảo ngược của nó hay không. Cú pháp [::-1] được sử dụng để đảo ngược chuỗi.\n",
        "\n",
        "- Nếu chuỗi gốc bằng chuỗi đảo ngược, hàm trả về True, nghĩa là x là số đối xứng. Ngược lại, hàm sẽ trả về False.\n",
        "\n",
        "# Ví dụ\n",
        "\n",
        "Với đầu vào x = 121, khi chuyển sang chuỗi, ta có x_str = \"121\". Vì \"121\" bằng với \"121\" (chuỗi đảo ngược), hàm sẽ trả về True.\n",
        "\n",
        "Với đầu vào x = -121, số này là âm, nên hàm sẽ trả về False ngay từ bước kiểm tra đầu tiên.\n",
        "\n",
        "Với đầu vào x = 10, chuyển sang chuỗi ta được x_str = \"10\". Chuỗi đảo ngược sẽ là \"01\", và vì \"10\" khác \"01\", hàm sẽ trả về False."
      ],
      "metadata": {
        "id": "QK_g5e9GZqzL"
      }
    }
  ]
}